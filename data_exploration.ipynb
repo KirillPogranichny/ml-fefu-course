{
 "cells": [
  {
   "cell_type": "code",
   "execution_count": 1,
   "id": "initial_id",
   "metadata": {
    "collapsed": true,
    "ExecuteTime": {
     "end_time": "2023-10-15T05:12:55.825799700Z",
     "start_time": "2023-10-15T05:12:54.636340200Z"
    }
   },
   "outputs": [
    {
     "data": {
      "text/plain": "                      Unnamed: 0     x1      x2     x3     x4     x5   Округ\n0           Белгородская область  7 777  14 918  2 825  2 009  1 841  сenter\n1               Брянская область  4 560  10 211  1 538  1 418    837     NaN\n2           Владимирская область  5 802   8 902  1 703  1 468    NaN  сenter\n3            Воронежская область    NaN  17 186  3 362  2 458  4 347  сenter\n4             Ивановская область  4 495   5 649  1 338    977  1 288  сenter\n..                           ...    ...     ...    ...    ...    ...     ...\n80              Амурская область  2 954   7 211    929    977    829      dv\n81           Магаданская область    787   1 215    331    202     97      dv\n82           Сахалинская область  3 332   4 511    792    507    131      dv\n83  Еврейская автономная область    803     NaN    175    187     57      dv\n84    Чукотский автономный округ    292     713    179     36      2      dv\n\n[85 rows x 7 columns]",
      "text/html": "<div>\n<style scoped>\n    .dataframe tbody tr th:only-of-type {\n        vertical-align: middle;\n    }\n\n    .dataframe tbody tr th {\n        vertical-align: top;\n    }\n\n    .dataframe thead th {\n        text-align: right;\n    }\n</style>\n<table border=\"1\" class=\"dataframe\">\n  <thead>\n    <tr style=\"text-align: right;\">\n      <th></th>\n      <th>Unnamed: 0</th>\n      <th>x1</th>\n      <th>x2</th>\n      <th>x3</th>\n      <th>x4</th>\n      <th>x5</th>\n      <th>Округ</th>\n    </tr>\n  </thead>\n  <tbody>\n    <tr>\n      <th>0</th>\n      <td>Белгородская область</td>\n      <td>7 777</td>\n      <td>14 918</td>\n      <td>2 825</td>\n      <td>2 009</td>\n      <td>1 841</td>\n      <td>сenter</td>\n    </tr>\n    <tr>\n      <th>1</th>\n      <td>Брянская область</td>\n      <td>4 560</td>\n      <td>10 211</td>\n      <td>1 538</td>\n      <td>1 418</td>\n      <td>837</td>\n      <td>NaN</td>\n    </tr>\n    <tr>\n      <th>2</th>\n      <td>Владимирская область</td>\n      <td>5 802</td>\n      <td>8 902</td>\n      <td>1 703</td>\n      <td>1 468</td>\n      <td>NaN</td>\n      <td>сenter</td>\n    </tr>\n    <tr>\n      <th>3</th>\n      <td>Воронежская область</td>\n      <td>NaN</td>\n      <td>17 186</td>\n      <td>3 362</td>\n      <td>2 458</td>\n      <td>4 347</td>\n      <td>сenter</td>\n    </tr>\n    <tr>\n      <th>4</th>\n      <td>Ивановская область</td>\n      <td>4 495</td>\n      <td>5 649</td>\n      <td>1 338</td>\n      <td>977</td>\n      <td>1 288</td>\n      <td>сenter</td>\n    </tr>\n    <tr>\n      <th>...</th>\n      <td>...</td>\n      <td>...</td>\n      <td>...</td>\n      <td>...</td>\n      <td>...</td>\n      <td>...</td>\n      <td>...</td>\n    </tr>\n    <tr>\n      <th>80</th>\n      <td>Амурская область</td>\n      <td>2 954</td>\n      <td>7 211</td>\n      <td>929</td>\n      <td>977</td>\n      <td>829</td>\n      <td>dv</td>\n    </tr>\n    <tr>\n      <th>81</th>\n      <td>Магаданская область</td>\n      <td>787</td>\n      <td>1 215</td>\n      <td>331</td>\n      <td>202</td>\n      <td>97</td>\n      <td>dv</td>\n    </tr>\n    <tr>\n      <th>82</th>\n      <td>Сахалинская область</td>\n      <td>3 332</td>\n      <td>4 511</td>\n      <td>792</td>\n      <td>507</td>\n      <td>131</td>\n      <td>dv</td>\n    </tr>\n    <tr>\n      <th>83</th>\n      <td>Еврейская автономная область</td>\n      <td>803</td>\n      <td>NaN</td>\n      <td>175</td>\n      <td>187</td>\n      <td>57</td>\n      <td>dv</td>\n    </tr>\n    <tr>\n      <th>84</th>\n      <td>Чукотский автономный округ</td>\n      <td>292</td>\n      <td>713</td>\n      <td>179</td>\n      <td>36</td>\n      <td>2</td>\n      <td>dv</td>\n    </tr>\n  </tbody>\n</table>\n<p>85 rows × 7 columns</p>\n</div>"
     },
     "metadata": {},
     "output_type": "display_data"
    }
   ],
   "source": [
    "import pandas as pd\n",
    "\n",
    "dataset_path = 'data/lab1_data.xlsx'\n",
    "dataset = pd.read_excel(dataset_path)\n",
    "display(dataset)"
   ]
  },
  {
   "cell_type": "code",
   "execution_count": 7,
   "outputs": [
    {
     "data": {
      "text/plain": "                      Unnamed: 0    x1     x2    x3    x4    x5   Округ\n0           Белгородская область  7777  14918  2825  2009  1841  сenter\n1               Брянская область  4560  10211  1538  1418   837     NaN\n2           Владимирская область  5802   8902  1703  1468   NaN  сenter\n3            Воронежская область   NaN  17186  3362  2458  4347  сenter\n4             Ивановская область  4495   5649  1338   977  1288  сenter\n..                           ...   ...    ...   ...   ...   ...     ...\n80              Амурская область  2954   7211   929   977   829      dv\n81           Магаданская область   787   1215   331   202    97      dv\n82           Сахалинская область  3332   4511   792   507   131      dv\n83  Еврейская автономная область   803    NaN   175   187    57      dv\n84    Чукотский автономный округ   292    713   179    36     2      dv\n\n[85 rows x 7 columns]",
      "text/html": "<div>\n<style scoped>\n    .dataframe tbody tr th:only-of-type {\n        vertical-align: middle;\n    }\n\n    .dataframe tbody tr th {\n        vertical-align: top;\n    }\n\n    .dataframe thead th {\n        text-align: right;\n    }\n</style>\n<table border=\"1\" class=\"dataframe\">\n  <thead>\n    <tr style=\"text-align: right;\">\n      <th></th>\n      <th>Unnamed: 0</th>\n      <th>x1</th>\n      <th>x2</th>\n      <th>x3</th>\n      <th>x4</th>\n      <th>x5</th>\n      <th>Округ</th>\n    </tr>\n  </thead>\n  <tbody>\n    <tr>\n      <th>0</th>\n      <td>Белгородская область</td>\n      <td>7777</td>\n      <td>14918</td>\n      <td>2825</td>\n      <td>2009</td>\n      <td>1841</td>\n      <td>сenter</td>\n    </tr>\n    <tr>\n      <th>1</th>\n      <td>Брянская область</td>\n      <td>4560</td>\n      <td>10211</td>\n      <td>1538</td>\n      <td>1418</td>\n      <td>837</td>\n      <td>NaN</td>\n    </tr>\n    <tr>\n      <th>2</th>\n      <td>Владимирская область</td>\n      <td>5802</td>\n      <td>8902</td>\n      <td>1703</td>\n      <td>1468</td>\n      <td>NaN</td>\n      <td>сenter</td>\n    </tr>\n    <tr>\n      <th>3</th>\n      <td>Воронежская область</td>\n      <td>NaN</td>\n      <td>17186</td>\n      <td>3362</td>\n      <td>2458</td>\n      <td>4347</td>\n      <td>сenter</td>\n    </tr>\n    <tr>\n      <th>4</th>\n      <td>Ивановская область</td>\n      <td>4495</td>\n      <td>5649</td>\n      <td>1338</td>\n      <td>977</td>\n      <td>1288</td>\n      <td>сenter</td>\n    </tr>\n    <tr>\n      <th>...</th>\n      <td>...</td>\n      <td>...</td>\n      <td>...</td>\n      <td>...</td>\n      <td>...</td>\n      <td>...</td>\n      <td>...</td>\n    </tr>\n    <tr>\n      <th>80</th>\n      <td>Амурская область</td>\n      <td>2954</td>\n      <td>7211</td>\n      <td>929</td>\n      <td>977</td>\n      <td>829</td>\n      <td>dv</td>\n    </tr>\n    <tr>\n      <th>81</th>\n      <td>Магаданская область</td>\n      <td>787</td>\n      <td>1215</td>\n      <td>331</td>\n      <td>202</td>\n      <td>97</td>\n      <td>dv</td>\n    </tr>\n    <tr>\n      <th>82</th>\n      <td>Сахалинская область</td>\n      <td>3332</td>\n      <td>4511</td>\n      <td>792</td>\n      <td>507</td>\n      <td>131</td>\n      <td>dv</td>\n    </tr>\n    <tr>\n      <th>83</th>\n      <td>Еврейская автономная область</td>\n      <td>803</td>\n      <td>NaN</td>\n      <td>175</td>\n      <td>187</td>\n      <td>57</td>\n      <td>dv</td>\n    </tr>\n    <tr>\n      <th>84</th>\n      <td>Чукотский автономный округ</td>\n      <td>292</td>\n      <td>713</td>\n      <td>179</td>\n      <td>36</td>\n      <td>2</td>\n      <td>dv</td>\n    </tr>\n  </tbody>\n</table>\n<p>85 rows × 7 columns</p>\n</div>"
     },
     "metadata": {},
     "output_type": "display_data"
    }
   ],
   "source": [
    "# solve non-breaking space issue\n",
    "dataset_copy = dataset.copy()\n",
    "dataset_copy = dataset_copy.replace(to_replace='\\xa0', value='', regex=True)\n",
    "display(dataset_copy)"
   ],
   "metadata": {
    "collapsed": false,
    "ExecuteTime": {
     "end_time": "2023-10-15T05:15:44.990977700Z",
     "start_time": "2023-10-15T05:15:44.933695600Z"
    }
   },
   "id": "9fe7c95493d6d59"
  },
  {
   "cell_type": "code",
   "execution_count": 21,
   "outputs": [
    {
     "data": {
      "text/plain": "                      Unnamed: 0      x1       x2      x3      x4      x5  \\\n0           Белгородская область  7777.0  14918.0  2825.0  2009.0  1841.0   \n1               Брянская область  4560.0  10211.0  1538.0  1418.0   837.0   \n2           Владимирская область  5802.0   8902.0  1703.0  1468.0     NaN   \n3            Воронежская область     NaN  17186.0  3362.0  2458.0  4347.0   \n4             Ивановская область  4495.0   5649.0  1338.0   977.0  1288.0   \n..                           ...     ...      ...     ...     ...     ...   \n79              Хабаровский край  5689.0  10688.0  1877.0  1648.0  1800.0   \n80              Амурская область  2954.0   7211.0   929.0   977.0   829.0   \n81           Магаданская область   787.0   1215.0   331.0   202.0    97.0   \n82           Сахалинская область  3332.0   4511.0   792.0   507.0   131.0   \n83  Еврейская автономная область   803.0      NaN   175.0   187.0    57.0   \n\n     Округ  \n0   сenter  \n1      NaN  \n2   сenter  \n3   сenter  \n4   сenter  \n..     ...  \n79      dv  \n80      dv  \n81      dv  \n82      dv  \n83      dv  \n\n[84 rows x 7 columns]",
      "text/html": "<div>\n<style scoped>\n    .dataframe tbody tr th:only-of-type {\n        vertical-align: middle;\n    }\n\n    .dataframe tbody tr th {\n        vertical-align: top;\n    }\n\n    .dataframe thead th {\n        text-align: right;\n    }\n</style>\n<table border=\"1\" class=\"dataframe\">\n  <thead>\n    <tr style=\"text-align: right;\">\n      <th></th>\n      <th>Unnamed: 0</th>\n      <th>x1</th>\n      <th>x2</th>\n      <th>x3</th>\n      <th>x4</th>\n      <th>x5</th>\n      <th>Округ</th>\n    </tr>\n  </thead>\n  <tbody>\n    <tr>\n      <th>0</th>\n      <td>Белгородская область</td>\n      <td>7777.0</td>\n      <td>14918.0</td>\n      <td>2825.0</td>\n      <td>2009.0</td>\n      <td>1841.0</td>\n      <td>сenter</td>\n    </tr>\n    <tr>\n      <th>1</th>\n      <td>Брянская область</td>\n      <td>4560.0</td>\n      <td>10211.0</td>\n      <td>1538.0</td>\n      <td>1418.0</td>\n      <td>837.0</td>\n      <td>NaN</td>\n    </tr>\n    <tr>\n      <th>2</th>\n      <td>Владимирская область</td>\n      <td>5802.0</td>\n      <td>8902.0</td>\n      <td>1703.0</td>\n      <td>1468.0</td>\n      <td>NaN</td>\n      <td>сenter</td>\n    </tr>\n    <tr>\n      <th>3</th>\n      <td>Воронежская область</td>\n      <td>NaN</td>\n      <td>17186.0</td>\n      <td>3362.0</td>\n      <td>2458.0</td>\n      <td>4347.0</td>\n      <td>сenter</td>\n    </tr>\n    <tr>\n      <th>4</th>\n      <td>Ивановская область</td>\n      <td>4495.0</td>\n      <td>5649.0</td>\n      <td>1338.0</td>\n      <td>977.0</td>\n      <td>1288.0</td>\n      <td>сenter</td>\n    </tr>\n    <tr>\n      <th>...</th>\n      <td>...</td>\n      <td>...</td>\n      <td>...</td>\n      <td>...</td>\n      <td>...</td>\n      <td>...</td>\n      <td>...</td>\n    </tr>\n    <tr>\n      <th>79</th>\n      <td>Хабаровский край</td>\n      <td>5689.0</td>\n      <td>10688.0</td>\n      <td>1877.0</td>\n      <td>1648.0</td>\n      <td>1800.0</td>\n      <td>dv</td>\n    </tr>\n    <tr>\n      <th>80</th>\n      <td>Амурская область</td>\n      <td>2954.0</td>\n      <td>7211.0</td>\n      <td>929.0</td>\n      <td>977.0</td>\n      <td>829.0</td>\n      <td>dv</td>\n    </tr>\n    <tr>\n      <th>81</th>\n      <td>Магаданская область</td>\n      <td>787.0</td>\n      <td>1215.0</td>\n      <td>331.0</td>\n      <td>202.0</td>\n      <td>97.0</td>\n      <td>dv</td>\n    </tr>\n    <tr>\n      <th>82</th>\n      <td>Сахалинская область</td>\n      <td>3332.0</td>\n      <td>4511.0</td>\n      <td>792.0</td>\n      <td>507.0</td>\n      <td>131.0</td>\n      <td>dv</td>\n    </tr>\n    <tr>\n      <th>83</th>\n      <td>Еврейская автономная область</td>\n      <td>803.0</td>\n      <td>NaN</td>\n      <td>175.0</td>\n      <td>187.0</td>\n      <td>57.0</td>\n      <td>dv</td>\n    </tr>\n  </tbody>\n</table>\n<p>84 rows × 7 columns</p>\n</div>"
     },
     "execution_count": 21,
     "metadata": {},
     "output_type": "execute_result"
    }
   ],
   "source": [
    "# convert objects to int64 and excludes anomaly\n",
    "categories_of_teachers = ['x1', 'x2', 'x3', 'x4', 'x5']\n",
    "dataset_copy[categories_of_teachers].convert_dtypes()\n",
    "\n",
    "for i in categories_of_teachers:\n",
    "    dataset_copy[i] = pd.to_numeric(dataset_copy[i], errors='coerce')\n",
    "\n",
    "dataset_copy.head(-1)"
   ],
   "metadata": {
    "collapsed": false,
    "ExecuteTime": {
     "end_time": "2023-10-15T05:25:42.010516100Z",
     "start_time": "2023-10-15T05:25:41.977083700Z"
    }
   },
   "id": "806508549d57ca9c"
  },
  {
   "cell_type": "code",
   "execution_count": 22,
   "outputs": [
    {
     "data": {
      "text/plain": "                 x1             x2           x3           x4            x5\ncount     83.000000      84.000000    84.000000    83.000000     83.000000\nmean    7333.084337   14787.750000  2519.428571  1811.385542   2169.903614\nstd     6485.396645   14727.063192  2095.862173  1520.177259   4228.748133\nmin      292.000000     614.000000   111.000000    36.000000      2.000000\n25%     3354.500000    6754.250000  1212.000000   814.000000    641.500000\n50%     5562.000000    9825.000000  1798.500000  1384.000000   1169.000000\n75%     8434.000000   18761.250000  3161.000000  2378.500000   2404.500000\nmax    33195.000000  108858.000000  9967.000000  7924.000000  33757.000000",
      "text/html": "<div>\n<style scoped>\n    .dataframe tbody tr th:only-of-type {\n        vertical-align: middle;\n    }\n\n    .dataframe tbody tr th {\n        vertical-align: top;\n    }\n\n    .dataframe thead th {\n        text-align: right;\n    }\n</style>\n<table border=\"1\" class=\"dataframe\">\n  <thead>\n    <tr style=\"text-align: right;\">\n      <th></th>\n      <th>x1</th>\n      <th>x2</th>\n      <th>x3</th>\n      <th>x4</th>\n      <th>x5</th>\n    </tr>\n  </thead>\n  <tbody>\n    <tr>\n      <th>count</th>\n      <td>83.000000</td>\n      <td>84.000000</td>\n      <td>84.000000</td>\n      <td>83.000000</td>\n      <td>83.000000</td>\n    </tr>\n    <tr>\n      <th>mean</th>\n      <td>7333.084337</td>\n      <td>14787.750000</td>\n      <td>2519.428571</td>\n      <td>1811.385542</td>\n      <td>2169.903614</td>\n    </tr>\n    <tr>\n      <th>std</th>\n      <td>6485.396645</td>\n      <td>14727.063192</td>\n      <td>2095.862173</td>\n      <td>1520.177259</td>\n      <td>4228.748133</td>\n    </tr>\n    <tr>\n      <th>min</th>\n      <td>292.000000</td>\n      <td>614.000000</td>\n      <td>111.000000</td>\n      <td>36.000000</td>\n      <td>2.000000</td>\n    </tr>\n    <tr>\n      <th>25%</th>\n      <td>3354.500000</td>\n      <td>6754.250000</td>\n      <td>1212.000000</td>\n      <td>814.000000</td>\n      <td>641.500000</td>\n    </tr>\n    <tr>\n      <th>50%</th>\n      <td>5562.000000</td>\n      <td>9825.000000</td>\n      <td>1798.500000</td>\n      <td>1384.000000</td>\n      <td>1169.000000</td>\n    </tr>\n    <tr>\n      <th>75%</th>\n      <td>8434.000000</td>\n      <td>18761.250000</td>\n      <td>3161.000000</td>\n      <td>2378.500000</td>\n      <td>2404.500000</td>\n    </tr>\n    <tr>\n      <th>max</th>\n      <td>33195.000000</td>\n      <td>108858.000000</td>\n      <td>9967.000000</td>\n      <td>7924.000000</td>\n      <td>33757.000000</td>\n    </tr>\n  </tbody>\n</table>\n</div>"
     },
     "execution_count": 22,
     "metadata": {},
     "output_type": "execute_result"
    }
   ],
   "source": [
    "dataset_copy.describe()"
   ],
   "metadata": {
    "collapsed": false,
    "ExecuteTime": {
     "end_time": "2023-10-15T05:29:27.978427500Z",
     "start_time": "2023-10-15T05:29:27.934400100Z"
    }
   },
   "id": "83f6a6c954137c05"
  },
  {
   "cell_type": "code",
   "execution_count": null,
   "outputs": [],
   "source": [],
   "metadata": {
    "collapsed": false
   },
   "id": "5b60a678fc5c65d2"
  }
 ],
 "metadata": {
  "kernelspec": {
   "display_name": "Python 3",
   "language": "python",
   "name": "python3"
  },
  "language_info": {
   "codemirror_mode": {
    "name": "ipython",
    "version": 2
   },
   "file_extension": ".py",
   "mimetype": "text/x-python",
   "name": "python",
   "nbconvert_exporter": "python",
   "pygments_lexer": "ipython2",
   "version": "2.7.6"
  }
 },
 "nbformat": 4,
 "nbformat_minor": 5
}
