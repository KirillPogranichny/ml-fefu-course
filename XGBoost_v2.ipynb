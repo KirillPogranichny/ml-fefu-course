{
 "cells": [
  {
   "cell_type": "code",
   "execution_count": 17,
   "outputs": [],
   "source": [
    "import pandas as pd\n",
    "import numpy as np\n",
    "import seaborn as sns\n",
    "import matplotlib.pyplot as plt\n",
    "from sklearn.model_selection import train_test_split\n",
    "from sklearn import metrics\n",
    "from imblearn.under_sampling import RandomUnderSampler\n",
    "from imblearn.over_sampling import RandomOverSampler\n",
    "from catboost import CatBoostClassifier"
   ],
   "metadata": {
    "collapsed": false,
    "ExecuteTime": {
     "end_time": "2023-12-17T06:22:06.599667200Z",
     "start_time": "2023-12-17T06:22:06.535338200Z"
    }
   },
   "id": "initial_id"
  },
  {
   "cell_type": "markdown",
   "source": [
    "# Подготовка данных"
   ],
   "metadata": {
    "collapsed": false
   },
   "id": "6f5f648ec51a693c"
  },
  {
   "cell_type": "code",
   "execution_count": 18,
   "outputs": [],
   "source": [
    "dataset_path = 'data/creditcard.csv'\n",
    "dataset = pd.read_csv(dataset_path, sep='[,]', engine='python')"
   ],
   "metadata": {
    "collapsed": false,
    "ExecuteTime": {
     "end_time": "2023-12-17T06:22:10.712712300Z",
     "start_time": "2023-12-17T06:22:06.601691600Z"
    }
   },
   "id": "7c133c92eaf8e2be"
  },
  {
   "cell_type": "code",
   "execution_count": 19,
   "outputs": [
    {
     "data": {
      "text/plain": "          \"Time\"       \"V1\"       \"V2\"      \"V3\"      \"V4\"      \"V5\"  \\\n0            0.0  -1.359807  -0.072781  2.536347  1.378155 -0.338321   \n1            0.0   1.191857   0.266151  0.166480  0.448154  0.060018   \n2            1.0  -1.358354  -1.340163  1.773209  0.379780 -0.503198   \n3            1.0  -0.966272  -0.185226  1.792993 -0.863291 -0.010309   \n4            2.0  -1.158233   0.877737  1.548718  0.403034 -0.407193   \n...          ...        ...        ...       ...       ...       ...   \n284802  172786.0 -11.881118  10.071785 -9.834783 -2.066656 -5.364473   \n284803  172787.0  -0.732789  -0.055080  2.035030 -0.738589  0.868229   \n284804  172788.0   1.919565  -0.301254 -3.249640 -0.557828  2.630515   \n284805  172788.0  -0.240440   0.530483  0.702510  0.689799 -0.377961   \n284806  172792.0  -0.533413  -0.189733  0.703337 -0.506271 -0.012546   \n\n            \"V6\"      \"V7\"      \"V8\"      \"V9\"  ...     \"V21\"     \"V22\"  \\\n0       0.462388  0.239599  0.098698  0.363787  ... -0.018307  0.277838   \n1      -0.082361 -0.078803  0.085102 -0.255425  ... -0.225775 -0.638672   \n2       1.800499  0.791461  0.247676 -1.514654  ...  0.247998  0.771679   \n3       1.247203  0.237609  0.377436 -1.387024  ... -0.108300  0.005274   \n4       0.095921  0.592941 -0.270533  0.817739  ... -0.009431  0.798278   \n...          ...       ...       ...       ...  ...       ...       ...   \n284802 -2.606837 -4.918215  7.305334  1.914428  ...  0.213454  0.111864   \n284803  1.058415  0.024330  0.294869  0.584800  ...  0.214205  0.924384   \n284804  3.031260 -0.296827  0.708417  0.432454  ...  0.232045  0.578229   \n284805  0.623708 -0.686180  0.679145  0.392087  ...  0.265245  0.800049   \n284806 -0.649617  1.577006 -0.414650  0.486180  ...  0.261057  0.643078   \n\n           \"V23\"     \"V24\"     \"V25\"     \"V26\"     \"V27\"     \"V28\"  \"Amount\"  \\\n0      -0.110474  0.066928  0.128539 -0.189115  0.133558 -0.021053    149.62   \n1       0.101288 -0.339846  0.167170  0.125895 -0.008983  0.014724      2.69   \n2       0.909412 -0.689281 -0.327642 -0.139097 -0.055353 -0.059752    378.66   \n3      -0.190321 -1.175575  0.647376 -0.221929  0.062723  0.061458    123.50   \n4      -0.137458  0.141267 -0.206010  0.502292  0.219422  0.215153     69.99   \n...          ...       ...       ...       ...       ...       ...       ...   \n284802  1.014480 -0.509348  1.436807  0.250034  0.943651  0.823731      0.77   \n284803  0.012463 -1.016226 -0.606624 -0.395255  0.068472 -0.053527     24.79   \n284804 -0.037501  0.640134  0.265745 -0.087371  0.004455 -0.026561     67.88   \n284805 -0.163298  0.123205 -0.569159  0.546668  0.108821  0.104533     10.00   \n284806  0.376777  0.008797 -0.473649 -0.818267 -0.002415  0.013649    217.00   \n\n        \"Class\"  \n0           \"0\"  \n1           \"0\"  \n2           \"0\"  \n3           \"0\"  \n4           \"0\"  \n...         ...  \n284802      \"0\"  \n284803      \"0\"  \n284804      \"0\"  \n284805      \"0\"  \n284806      \"0\"  \n\n[284807 rows x 31 columns]",
      "text/html": "<div>\n<style scoped>\n    .dataframe tbody tr th:only-of-type {\n        vertical-align: middle;\n    }\n\n    .dataframe tbody tr th {\n        vertical-align: top;\n    }\n\n    .dataframe thead th {\n        text-align: right;\n    }\n</style>\n<table border=\"1\" class=\"dataframe\">\n  <thead>\n    <tr style=\"text-align: right;\">\n      <th></th>\n      <th>\"Time\"</th>\n      <th>\"V1\"</th>\n      <th>\"V2\"</th>\n      <th>\"V3\"</th>\n      <th>\"V4\"</th>\n      <th>\"V5\"</th>\n      <th>\"V6\"</th>\n      <th>\"V7\"</th>\n      <th>\"V8\"</th>\n      <th>\"V9\"</th>\n      <th>...</th>\n      <th>\"V21\"</th>\n      <th>\"V22\"</th>\n      <th>\"V23\"</th>\n      <th>\"V24\"</th>\n      <th>\"V25\"</th>\n      <th>\"V26\"</th>\n      <th>\"V27\"</th>\n      <th>\"V28\"</th>\n      <th>\"Amount\"</th>\n      <th>\"Class\"</th>\n    </tr>\n  </thead>\n  <tbody>\n    <tr>\n      <th>0</th>\n      <td>0.0</td>\n      <td>-1.359807</td>\n      <td>-0.072781</td>\n      <td>2.536347</td>\n      <td>1.378155</td>\n      <td>-0.338321</td>\n      <td>0.462388</td>\n      <td>0.239599</td>\n      <td>0.098698</td>\n      <td>0.363787</td>\n      <td>...</td>\n      <td>-0.018307</td>\n      <td>0.277838</td>\n      <td>-0.110474</td>\n      <td>0.066928</td>\n      <td>0.128539</td>\n      <td>-0.189115</td>\n      <td>0.133558</td>\n      <td>-0.021053</td>\n      <td>149.62</td>\n      <td>\"0\"</td>\n    </tr>\n    <tr>\n      <th>1</th>\n      <td>0.0</td>\n      <td>1.191857</td>\n      <td>0.266151</td>\n      <td>0.166480</td>\n      <td>0.448154</td>\n      <td>0.060018</td>\n      <td>-0.082361</td>\n      <td>-0.078803</td>\n      <td>0.085102</td>\n      <td>-0.255425</td>\n      <td>...</td>\n      <td>-0.225775</td>\n      <td>-0.638672</td>\n      <td>0.101288</td>\n      <td>-0.339846</td>\n      <td>0.167170</td>\n      <td>0.125895</td>\n      <td>-0.008983</td>\n      <td>0.014724</td>\n      <td>2.69</td>\n      <td>\"0\"</td>\n    </tr>\n    <tr>\n      <th>2</th>\n      <td>1.0</td>\n      <td>-1.358354</td>\n      <td>-1.340163</td>\n      <td>1.773209</td>\n      <td>0.379780</td>\n      <td>-0.503198</td>\n      <td>1.800499</td>\n      <td>0.791461</td>\n      <td>0.247676</td>\n      <td>-1.514654</td>\n      <td>...</td>\n      <td>0.247998</td>\n      <td>0.771679</td>\n      <td>0.909412</td>\n      <td>-0.689281</td>\n      <td>-0.327642</td>\n      <td>-0.139097</td>\n      <td>-0.055353</td>\n      <td>-0.059752</td>\n      <td>378.66</td>\n      <td>\"0\"</td>\n    </tr>\n    <tr>\n      <th>3</th>\n      <td>1.0</td>\n      <td>-0.966272</td>\n      <td>-0.185226</td>\n      <td>1.792993</td>\n      <td>-0.863291</td>\n      <td>-0.010309</td>\n      <td>1.247203</td>\n      <td>0.237609</td>\n      <td>0.377436</td>\n      <td>-1.387024</td>\n      <td>...</td>\n      <td>-0.108300</td>\n      <td>0.005274</td>\n      <td>-0.190321</td>\n      <td>-1.175575</td>\n      <td>0.647376</td>\n      <td>-0.221929</td>\n      <td>0.062723</td>\n      <td>0.061458</td>\n      <td>123.50</td>\n      <td>\"0\"</td>\n    </tr>\n    <tr>\n      <th>4</th>\n      <td>2.0</td>\n      <td>-1.158233</td>\n      <td>0.877737</td>\n      <td>1.548718</td>\n      <td>0.403034</td>\n      <td>-0.407193</td>\n      <td>0.095921</td>\n      <td>0.592941</td>\n      <td>-0.270533</td>\n      <td>0.817739</td>\n      <td>...</td>\n      <td>-0.009431</td>\n      <td>0.798278</td>\n      <td>-0.137458</td>\n      <td>0.141267</td>\n      <td>-0.206010</td>\n      <td>0.502292</td>\n      <td>0.219422</td>\n      <td>0.215153</td>\n      <td>69.99</td>\n      <td>\"0\"</td>\n    </tr>\n    <tr>\n      <th>...</th>\n      <td>...</td>\n      <td>...</td>\n      <td>...</td>\n      <td>...</td>\n      <td>...</td>\n      <td>...</td>\n      <td>...</td>\n      <td>...</td>\n      <td>...</td>\n      <td>...</td>\n      <td>...</td>\n      <td>...</td>\n      <td>...</td>\n      <td>...</td>\n      <td>...</td>\n      <td>...</td>\n      <td>...</td>\n      <td>...</td>\n      <td>...</td>\n      <td>...</td>\n      <td>...</td>\n    </tr>\n    <tr>\n      <th>284802</th>\n      <td>172786.0</td>\n      <td>-11.881118</td>\n      <td>10.071785</td>\n      <td>-9.834783</td>\n      <td>-2.066656</td>\n      <td>-5.364473</td>\n      <td>-2.606837</td>\n      <td>-4.918215</td>\n      <td>7.305334</td>\n      <td>1.914428</td>\n      <td>...</td>\n      <td>0.213454</td>\n      <td>0.111864</td>\n      <td>1.014480</td>\n      <td>-0.509348</td>\n      <td>1.436807</td>\n      <td>0.250034</td>\n      <td>0.943651</td>\n      <td>0.823731</td>\n      <td>0.77</td>\n      <td>\"0\"</td>\n    </tr>\n    <tr>\n      <th>284803</th>\n      <td>172787.0</td>\n      <td>-0.732789</td>\n      <td>-0.055080</td>\n      <td>2.035030</td>\n      <td>-0.738589</td>\n      <td>0.868229</td>\n      <td>1.058415</td>\n      <td>0.024330</td>\n      <td>0.294869</td>\n      <td>0.584800</td>\n      <td>...</td>\n      <td>0.214205</td>\n      <td>0.924384</td>\n      <td>0.012463</td>\n      <td>-1.016226</td>\n      <td>-0.606624</td>\n      <td>-0.395255</td>\n      <td>0.068472</td>\n      <td>-0.053527</td>\n      <td>24.79</td>\n      <td>\"0\"</td>\n    </tr>\n    <tr>\n      <th>284804</th>\n      <td>172788.0</td>\n      <td>1.919565</td>\n      <td>-0.301254</td>\n      <td>-3.249640</td>\n      <td>-0.557828</td>\n      <td>2.630515</td>\n      <td>3.031260</td>\n      <td>-0.296827</td>\n      <td>0.708417</td>\n      <td>0.432454</td>\n      <td>...</td>\n      <td>0.232045</td>\n      <td>0.578229</td>\n      <td>-0.037501</td>\n      <td>0.640134</td>\n      <td>0.265745</td>\n      <td>-0.087371</td>\n      <td>0.004455</td>\n      <td>-0.026561</td>\n      <td>67.88</td>\n      <td>\"0\"</td>\n    </tr>\n    <tr>\n      <th>284805</th>\n      <td>172788.0</td>\n      <td>-0.240440</td>\n      <td>0.530483</td>\n      <td>0.702510</td>\n      <td>0.689799</td>\n      <td>-0.377961</td>\n      <td>0.623708</td>\n      <td>-0.686180</td>\n      <td>0.679145</td>\n      <td>0.392087</td>\n      <td>...</td>\n      <td>0.265245</td>\n      <td>0.800049</td>\n      <td>-0.163298</td>\n      <td>0.123205</td>\n      <td>-0.569159</td>\n      <td>0.546668</td>\n      <td>0.108821</td>\n      <td>0.104533</td>\n      <td>10.00</td>\n      <td>\"0\"</td>\n    </tr>\n    <tr>\n      <th>284806</th>\n      <td>172792.0</td>\n      <td>-0.533413</td>\n      <td>-0.189733</td>\n      <td>0.703337</td>\n      <td>-0.506271</td>\n      <td>-0.012546</td>\n      <td>-0.649617</td>\n      <td>1.577006</td>\n      <td>-0.414650</td>\n      <td>0.486180</td>\n      <td>...</td>\n      <td>0.261057</td>\n      <td>0.643078</td>\n      <td>0.376777</td>\n      <td>0.008797</td>\n      <td>-0.473649</td>\n      <td>-0.818267</td>\n      <td>-0.002415</td>\n      <td>0.013649</td>\n      <td>217.00</td>\n      <td>\"0\"</td>\n    </tr>\n  </tbody>\n</table>\n<p>284807 rows × 31 columns</p>\n</div>"
     },
     "metadata": {},
     "output_type": "display_data"
    }
   ],
   "source": [
    "df = dataset.copy()\n",
    "display(df)"
   ],
   "metadata": {
    "collapsed": false,
    "ExecuteTime": {
     "end_time": "2023-12-17T06:22:10.783548200Z",
     "start_time": "2023-12-17T06:22:10.713711400Z"
    }
   },
   "id": "17547248f0089f88"
  },
  {
   "cell_type": "code",
   "execution_count": 20,
   "outputs": [
    {
     "data": {
      "text/plain": "            Time         V1         V2        V3        V4        V5  \\\n0            0.0  -1.359807  -0.072781  2.536347  1.378155 -0.338321   \n1            0.0   1.191857   0.266151  0.166480  0.448154  0.060018   \n2            1.0  -1.358354  -1.340163  1.773209  0.379780 -0.503198   \n3            1.0  -0.966272  -0.185226  1.792993 -0.863291 -0.010309   \n4            2.0  -1.158233   0.877737  1.548718  0.403034 -0.407193   \n...          ...        ...        ...       ...       ...       ...   \n284802  172786.0 -11.881118  10.071785 -9.834783 -2.066656 -5.364473   \n284803  172787.0  -0.732789  -0.055080  2.035030 -0.738589  0.868229   \n284804  172788.0   1.919565  -0.301254 -3.249640 -0.557828  2.630515   \n284805  172788.0  -0.240440   0.530483  0.702510  0.689799 -0.377961   \n284806  172792.0  -0.533413  -0.189733  0.703337 -0.506271 -0.012546   \n\n              V6        V7        V8        V9  ...       V21       V22  \\\n0       0.462388  0.239599  0.098698  0.363787  ... -0.018307  0.277838   \n1      -0.082361 -0.078803  0.085102 -0.255425  ... -0.225775 -0.638672   \n2       1.800499  0.791461  0.247676 -1.514654  ...  0.247998  0.771679   \n3       1.247203  0.237609  0.377436 -1.387024  ... -0.108300  0.005274   \n4       0.095921  0.592941 -0.270533  0.817739  ... -0.009431  0.798278   \n...          ...       ...       ...       ...  ...       ...       ...   \n284802 -2.606837 -4.918215  7.305334  1.914428  ...  0.213454  0.111864   \n284803  1.058415  0.024330  0.294869  0.584800  ...  0.214205  0.924384   \n284804  3.031260 -0.296827  0.708417  0.432454  ...  0.232045  0.578229   \n284805  0.623708 -0.686180  0.679145  0.392087  ...  0.265245  0.800049   \n284806 -0.649617  1.577006 -0.414650  0.486180  ...  0.261057  0.643078   \n\n             V23       V24       V25       V26       V27       V28  Amount  \\\n0      -0.110474  0.066928  0.128539 -0.189115  0.133558 -0.021053  149.62   \n1       0.101288 -0.339846  0.167170  0.125895 -0.008983  0.014724    2.69   \n2       0.909412 -0.689281 -0.327642 -0.139097 -0.055353 -0.059752  378.66   \n3      -0.190321 -1.175575  0.647376 -0.221929  0.062723  0.061458  123.50   \n4      -0.137458  0.141267 -0.206010  0.502292  0.219422  0.215153   69.99   \n...          ...       ...       ...       ...       ...       ...     ...   \n284802  1.014480 -0.509348  1.436807  0.250034  0.943651  0.823731    0.77   \n284803  0.012463 -1.016226 -0.606624 -0.395255  0.068472 -0.053527   24.79   \n284804 -0.037501  0.640134  0.265745 -0.087371  0.004455 -0.026561   67.88   \n284805 -0.163298  0.123205 -0.569159  0.546668  0.108821  0.104533   10.00   \n284806  0.376777  0.008797 -0.473649 -0.818267 -0.002415  0.013649  217.00   \n\n        Class  \n0           0  \n1           0  \n2           0  \n3           0  \n4           0  \n...       ...  \n284802      0  \n284803      0  \n284804      0  \n284805      0  \n284806      0  \n\n[284807 rows x 31 columns]",
      "text/html": "<div>\n<style scoped>\n    .dataframe tbody tr th:only-of-type {\n        vertical-align: middle;\n    }\n\n    .dataframe tbody tr th {\n        vertical-align: top;\n    }\n\n    .dataframe thead th {\n        text-align: right;\n    }\n</style>\n<table border=\"1\" class=\"dataframe\">\n  <thead>\n    <tr style=\"text-align: right;\">\n      <th></th>\n      <th>Time</th>\n      <th>V1</th>\n      <th>V2</th>\n      <th>V3</th>\n      <th>V4</th>\n      <th>V5</th>\n      <th>V6</th>\n      <th>V7</th>\n      <th>V8</th>\n      <th>V9</th>\n      <th>...</th>\n      <th>V21</th>\n      <th>V22</th>\n      <th>V23</th>\n      <th>V24</th>\n      <th>V25</th>\n      <th>V26</th>\n      <th>V27</th>\n      <th>V28</th>\n      <th>Amount</th>\n      <th>Class</th>\n    </tr>\n  </thead>\n  <tbody>\n    <tr>\n      <th>0</th>\n      <td>0.0</td>\n      <td>-1.359807</td>\n      <td>-0.072781</td>\n      <td>2.536347</td>\n      <td>1.378155</td>\n      <td>-0.338321</td>\n      <td>0.462388</td>\n      <td>0.239599</td>\n      <td>0.098698</td>\n      <td>0.363787</td>\n      <td>...</td>\n      <td>-0.018307</td>\n      <td>0.277838</td>\n      <td>-0.110474</td>\n      <td>0.066928</td>\n      <td>0.128539</td>\n      <td>-0.189115</td>\n      <td>0.133558</td>\n      <td>-0.021053</td>\n      <td>149.62</td>\n      <td>0</td>\n    </tr>\n    <tr>\n      <th>1</th>\n      <td>0.0</td>\n      <td>1.191857</td>\n      <td>0.266151</td>\n      <td>0.166480</td>\n      <td>0.448154</td>\n      <td>0.060018</td>\n      <td>-0.082361</td>\n      <td>-0.078803</td>\n      <td>0.085102</td>\n      <td>-0.255425</td>\n      <td>...</td>\n      <td>-0.225775</td>\n      <td>-0.638672</td>\n      <td>0.101288</td>\n      <td>-0.339846</td>\n      <td>0.167170</td>\n      <td>0.125895</td>\n      <td>-0.008983</td>\n      <td>0.014724</td>\n      <td>2.69</td>\n      <td>0</td>\n    </tr>\n    <tr>\n      <th>2</th>\n      <td>1.0</td>\n      <td>-1.358354</td>\n      <td>-1.340163</td>\n      <td>1.773209</td>\n      <td>0.379780</td>\n      <td>-0.503198</td>\n      <td>1.800499</td>\n      <td>0.791461</td>\n      <td>0.247676</td>\n      <td>-1.514654</td>\n      <td>...</td>\n      <td>0.247998</td>\n      <td>0.771679</td>\n      <td>0.909412</td>\n      <td>-0.689281</td>\n      <td>-0.327642</td>\n      <td>-0.139097</td>\n      <td>-0.055353</td>\n      <td>-0.059752</td>\n      <td>378.66</td>\n      <td>0</td>\n    </tr>\n    <tr>\n      <th>3</th>\n      <td>1.0</td>\n      <td>-0.966272</td>\n      <td>-0.185226</td>\n      <td>1.792993</td>\n      <td>-0.863291</td>\n      <td>-0.010309</td>\n      <td>1.247203</td>\n      <td>0.237609</td>\n      <td>0.377436</td>\n      <td>-1.387024</td>\n      <td>...</td>\n      <td>-0.108300</td>\n      <td>0.005274</td>\n      <td>-0.190321</td>\n      <td>-1.175575</td>\n      <td>0.647376</td>\n      <td>-0.221929</td>\n      <td>0.062723</td>\n      <td>0.061458</td>\n      <td>123.50</td>\n      <td>0</td>\n    </tr>\n    <tr>\n      <th>4</th>\n      <td>2.0</td>\n      <td>-1.158233</td>\n      <td>0.877737</td>\n      <td>1.548718</td>\n      <td>0.403034</td>\n      <td>-0.407193</td>\n      <td>0.095921</td>\n      <td>0.592941</td>\n      <td>-0.270533</td>\n      <td>0.817739</td>\n      <td>...</td>\n      <td>-0.009431</td>\n      <td>0.798278</td>\n      <td>-0.137458</td>\n      <td>0.141267</td>\n      <td>-0.206010</td>\n      <td>0.502292</td>\n      <td>0.219422</td>\n      <td>0.215153</td>\n      <td>69.99</td>\n      <td>0</td>\n    </tr>\n    <tr>\n      <th>...</th>\n      <td>...</td>\n      <td>...</td>\n      <td>...</td>\n      <td>...</td>\n      <td>...</td>\n      <td>...</td>\n      <td>...</td>\n      <td>...</td>\n      <td>...</td>\n      <td>...</td>\n      <td>...</td>\n      <td>...</td>\n      <td>...</td>\n      <td>...</td>\n      <td>...</td>\n      <td>...</td>\n      <td>...</td>\n      <td>...</td>\n      <td>...</td>\n      <td>...</td>\n      <td>...</td>\n    </tr>\n    <tr>\n      <th>284802</th>\n      <td>172786.0</td>\n      <td>-11.881118</td>\n      <td>10.071785</td>\n      <td>-9.834783</td>\n      <td>-2.066656</td>\n      <td>-5.364473</td>\n      <td>-2.606837</td>\n      <td>-4.918215</td>\n      <td>7.305334</td>\n      <td>1.914428</td>\n      <td>...</td>\n      <td>0.213454</td>\n      <td>0.111864</td>\n      <td>1.014480</td>\n      <td>-0.509348</td>\n      <td>1.436807</td>\n      <td>0.250034</td>\n      <td>0.943651</td>\n      <td>0.823731</td>\n      <td>0.77</td>\n      <td>0</td>\n    </tr>\n    <tr>\n      <th>284803</th>\n      <td>172787.0</td>\n      <td>-0.732789</td>\n      <td>-0.055080</td>\n      <td>2.035030</td>\n      <td>-0.738589</td>\n      <td>0.868229</td>\n      <td>1.058415</td>\n      <td>0.024330</td>\n      <td>0.294869</td>\n      <td>0.584800</td>\n      <td>...</td>\n      <td>0.214205</td>\n      <td>0.924384</td>\n      <td>0.012463</td>\n      <td>-1.016226</td>\n      <td>-0.606624</td>\n      <td>-0.395255</td>\n      <td>0.068472</td>\n      <td>-0.053527</td>\n      <td>24.79</td>\n      <td>0</td>\n    </tr>\n    <tr>\n      <th>284804</th>\n      <td>172788.0</td>\n      <td>1.919565</td>\n      <td>-0.301254</td>\n      <td>-3.249640</td>\n      <td>-0.557828</td>\n      <td>2.630515</td>\n      <td>3.031260</td>\n      <td>-0.296827</td>\n      <td>0.708417</td>\n      <td>0.432454</td>\n      <td>...</td>\n      <td>0.232045</td>\n      <td>0.578229</td>\n      <td>-0.037501</td>\n      <td>0.640134</td>\n      <td>0.265745</td>\n      <td>-0.087371</td>\n      <td>0.004455</td>\n      <td>-0.026561</td>\n      <td>67.88</td>\n      <td>0</td>\n    </tr>\n    <tr>\n      <th>284805</th>\n      <td>172788.0</td>\n      <td>-0.240440</td>\n      <td>0.530483</td>\n      <td>0.702510</td>\n      <td>0.689799</td>\n      <td>-0.377961</td>\n      <td>0.623708</td>\n      <td>-0.686180</td>\n      <td>0.679145</td>\n      <td>0.392087</td>\n      <td>...</td>\n      <td>0.265245</td>\n      <td>0.800049</td>\n      <td>-0.163298</td>\n      <td>0.123205</td>\n      <td>-0.569159</td>\n      <td>0.546668</td>\n      <td>0.108821</td>\n      <td>0.104533</td>\n      <td>10.00</td>\n      <td>0</td>\n    </tr>\n    <tr>\n      <th>284806</th>\n      <td>172792.0</td>\n      <td>-0.533413</td>\n      <td>-0.189733</td>\n      <td>0.703337</td>\n      <td>-0.506271</td>\n      <td>-0.012546</td>\n      <td>-0.649617</td>\n      <td>1.577006</td>\n      <td>-0.414650</td>\n      <td>0.486180</td>\n      <td>...</td>\n      <td>0.261057</td>\n      <td>0.643078</td>\n      <td>0.376777</td>\n      <td>0.008797</td>\n      <td>-0.473649</td>\n      <td>-0.818267</td>\n      <td>-0.002415</td>\n      <td>0.013649</td>\n      <td>217.00</td>\n      <td>0</td>\n    </tr>\n  </tbody>\n</table>\n<p>284807 rows × 31 columns</p>\n</div>"
     },
     "metadata": {},
     "output_type": "display_data"
    }
   ],
   "source": [
    "df.columns = df.columns.str.replace(r'\\W', '', regex=True)\n",
    "df.loc[:, 'Class'] = df.loc[:, 'Class'].str.replace(r'\\W', '', regex=True)\n",
    "df = df.astype({'Class': 'int'})\n",
    "display(df)"
   ],
   "metadata": {
    "collapsed": false,
    "ExecuteTime": {
     "end_time": "2023-12-17T06:22:11.089375700Z",
     "start_time": "2023-12-17T06:22:10.782550600Z"
    }
   },
   "id": "8f45bdda6cf12edf"
  },
  {
   "cell_type": "markdown",
   "source": [
    "# Балансировка датасета\n",
    "Соотношение значений Class исходного датасета"
   ],
   "metadata": {
    "collapsed": false
   },
   "id": "2e96c9a3ec6dadd9"
  },
  {
   "cell_type": "code",
   "execution_count": 21,
   "outputs": [
    {
     "data": {
      "text/plain": "[Text(0, 0, '492')]"
     },
     "execution_count": 21,
     "metadata": {},
     "output_type": "execute_result"
    },
    {
     "data": {
      "text/plain": "<Figure size 640x480 with 1 Axes>",
      "image/png": "[encoded data removed]"
     },
     "metadata": {},
     "output_type": "display_data"
    }
   ],
   "source": [
    "ax = sns.countplot(x='Class', data=df, hue='Class')\n",
    "ax.bar_label(ax.containers[0])\n",
    "ax.bar_label(ax.containers[1])"
   ],
   "metadata": {
    "collapsed": false,
    "ExecuteTime": {
     "end_time": "2023-12-17T06:22:11.490083300Z",
     "start_time": "2023-12-17T06:22:11.091405600Z"
    }
   },
   "id": "5a337d1d722f5a07"
  },
  {
   "cell_type": "markdown",
   "source": [
    "Разделим данные"
   ],
   "metadata": {
    "collapsed": false
   },
   "id": "78271d5ba96663f9"
  },
  {
   "cell_type": "code",
   "execution_count": 22,
   "outputs": [],
   "source": [
    "X_train, X_test, y_train, y_test = train_test_split(df.drop('Class', axis=1), df['Class'], test_size=0.25, random_state=0)"
   ],
   "metadata": {
    "collapsed": false,
    "ExecuteTime": {
     "end_time": "2023-12-17T06:22:11.633025400Z",
     "start_time": "2023-12-17T06:22:11.489059Z"
    }
   },
   "id": "8bc0701f99900ac8"
  },
  {
   "cell_type": "markdown",
   "source": [
    "Применим Random Undersampling для класса большинства"
   ],
   "metadata": {
    "collapsed": false
   },
   "id": "43382c266a68771b"
  },
  {
   "cell_type": "code",
   "execution_count": 23,
   "outputs": [],
   "source": [
    "rus = RandomUnderSampler(random_state=0, sampling_strategy='not minority')\n",
    "X_train_resampled, y_train_resampled = rus.fit_resample(X_train, y_train)"
   ],
   "metadata": {
    "collapsed": false,
    "ExecuteTime": {
     "end_time": "2023-12-17T06:22:11.660563Z",
     "start_time": "2023-12-17T06:22:11.633025400Z"
    }
   },
   "id": "2c29e09603848d41"
  },
  {
   "cell_type": "code",
   "execution_count": 24,
   "outputs": [],
   "source": [
    "ros = RandomOverSampler(random_state=0, sampling_strategy='not majority')\n",
    "X_test_resampled, y_test_resampled = ros.fit_resample(X_test, y_test)"
   ],
   "metadata": {
    "collapsed": false,
    "ExecuteTime": {
     "end_time": "2023-12-17T06:22:11.738412800Z",
     "start_time": "2023-12-17T06:22:11.660563Z"
    }
   },
   "id": "1438a1959f05d1bd"
  },
  {
   "cell_type": "markdown",
   "source": [
    "##### Используем CatBoosting в качестве первичной модели"
   ],
   "metadata": {
    "collapsed": false
   },
   "id": "c109a5d9579b16ec"
  },
  {
   "cell_type": "code",
   "execution_count": 25,
   "outputs": [
    {
     "name": "stdout",
     "output_type": "stream",
     "text": [
      "Learning rate set to 0.029457\n",
      "0:\ttest: 0.9245329\tbest: 0.9245329 (0)\ttotal: 8.27ms\tremaining: 8.26s\n",
      "50:\ttest: 0.9787008\tbest: 0.9787008 (50)\ttotal: 319ms\tremaining: 5.94s\n",
      "100:\ttest: 0.9802893\tbest: 0.9802893 (100)\ttotal: 598ms\tremaining: 5.32s\n",
      "150:\ttest: 0.9813213\tbest: 0.9813213 (150)\ttotal: 884ms\tremaining: 4.97s\n",
      "200:\ttest: 0.9822800\tbest: 0.9825091 (196)\ttotal: 1.17s\tremaining: 4.64s\n",
      "250:\ttest: 0.9823832\tbest: 0.9825758 (235)\ttotal: 1.45s\tremaining: 4.34s\n",
      "300:\ttest: 0.9823601\tbest: 0.9825758 (235)\ttotal: 1.74s\tremaining: 4.04s\n",
      "350:\ttest: 0.9823354\tbest: 0.9825758 (235)\ttotal: 2.02s\tremaining: 3.74s\n",
      "400:\ttest: 0.9824457\tbest: 0.9825758 (235)\ttotal: 2.34s\tremaining: 3.5s\n",
      "450:\ttest: 0.9823911\tbest: 0.9825758 (235)\ttotal: 2.64s\tremaining: 3.21s\n",
      "500:\ttest: 0.9822900\tbest: 0.9825758 (235)\ttotal: 2.92s\tremaining: 2.91s\n",
      "550:\ttest: 0.9817200\tbest: 0.9825758 (235)\ttotal: 3.23s\tremaining: 2.63s\n",
      "600:\ttest: 0.9815894\tbest: 0.9825758 (235)\ttotal: 3.58s\tremaining: 2.38s\n",
      "650:\ttest: 0.9813087\tbest: 0.9825758 (235)\ttotal: 3.86s\tremaining: 2.07s\n",
      "700:\ttest: 0.9813135\tbest: 0.9825758 (235)\ttotal: 4.15s\tremaining: 1.77s\n",
      "750:\ttest: 0.9813691\tbest: 0.9825758 (235)\ttotal: 4.45s\tremaining: 1.47s\n",
      "800:\ttest: 0.9813746\tbest: 0.9825758 (235)\ttotal: 4.72s\tremaining: 1.17s\n",
      "850:\ttest: 0.9814172\tbest: 0.9825758 (235)\ttotal: 5s\tremaining: 875ms\n",
      "900:\ttest: 0.9814631\tbest: 0.9825758 (235)\ttotal: 5.29s\tremaining: 581ms\n",
      "950:\ttest: 0.9813266\tbest: 0.9825758 (235)\ttotal: 5.57s\tremaining: 287ms\n",
      "999:\ttest: 0.9811419\tbest: 0.9825758 (235)\ttotal: 5.85s\tremaining: 0us\n",
      "\n",
      "bestTest = 0.9825758043\n",
      "bestIteration = 235\n",
      "\n",
      "Shrink model to first 236 iterations.\n"
     ]
    },
    {
     "data": {
      "text/plain": "<catboost.core.CatBoostClassifier at 0x28e3d512f90>"
     },
     "execution_count": 25,
     "metadata": {},
     "output_type": "execute_result"
    }
   ],
   "source": [
    "# AUC\n",
    "params = {'iterations': 1000, 'use_best_model': True, 'eval_metric': 'AUC'}\n",
    "model = CatBoostClassifier(**params)\n",
    "\n",
    "model.fit(X_train_resampled, y_train_resampled,\n",
    "          eval_set=(X_test_resampled, y_test_resampled),\n",
    "          verbose=50)"
   ],
   "metadata": {
    "collapsed": false,
    "ExecuteTime": {
     "end_time": "2023-12-17T06:22:17.742975600Z",
     "start_time": "2023-12-17T06:22:11.740474900Z"
    }
   },
   "id": "b054479601a061ec"
  },
  {
   "cell_type": "code",
   "execution_count": 26,
   "outputs": [
    {
     "name": "stdout",
     "output_type": "stream",
     "text": [
      "Learning rate set to 0.029457\n",
      "0:\tlearn: 0.8844086\ttest: 0.8538589\tbest: 0.8538589 (0)\ttotal: 4.03ms\tremaining: 4.03s\n",
      "50:\tlearn: 0.9354839\ttest: 0.8941926\tbest: 0.8941926 (22)\ttotal: 127ms\tremaining: 2.37s\n",
      "100:\tlearn: 0.9650538\ttest: 0.8852311\tbest: 0.8941926 (22)\ttotal: 282ms\tremaining: 2.51s\n",
      "150:\tlearn: 0.9865591\ttest: 0.8852311\tbest: 0.8941926 (22)\ttotal: 407ms\tremaining: 2.29s\n",
      "200:\tlearn: 0.9946237\ttest: 0.8941926\tbest: 0.9021975 (184)\ttotal: 582ms\tremaining: 2.31s\n",
      "250:\tlearn: 0.9973118\ttest: 0.9021975\tbest: 0.9021975 (184)\ttotal: 706ms\tremaining: 2.1s\n",
      "300:\tlearn: 1.0000000\ttest: 0.9021975\tbest: 0.9021975 (184)\ttotal: 830ms\tremaining: 1.93s\n",
      "350:\tlearn: 1.0000000\ttest: 0.8932360\tbest: 0.9021975 (184)\ttotal: 953ms\tremaining: 1.76s\n",
      "400:\tlearn: 1.0000000\ttest: 0.8932360\tbest: 0.9021975 (184)\ttotal: 1.08s\tremaining: 1.61s\n",
      "450:\tlearn: 1.0000000\ttest: 0.8932360\tbest: 0.9021975 (184)\ttotal: 1.2s\tremaining: 1.46s\n",
      "500:\tlearn: 1.0000000\ttest: 0.9012127\tbest: 0.9021975 (184)\ttotal: 1.32s\tremaining: 1.32s\n",
      "550:\tlearn: 1.0000000\ttest: 0.9012127\tbest: 0.9021975 (184)\ttotal: 1.45s\tremaining: 1.18s\n",
      "600:\tlearn: 1.0000000\ttest: 0.9012127\tbest: 0.9021975 (184)\ttotal: 1.58s\tremaining: 1.05s\n",
      "650:\tlearn: 1.0000000\ttest: 0.9012127\tbest: 0.9021975 (184)\ttotal: 1.7s\tremaining: 911ms\n",
      "700:\tlearn: 1.0000000\ttest: 0.9012127\tbest: 0.9021975 (184)\ttotal: 1.82s\tremaining: 778ms\n",
      "750:\tlearn: 1.0000000\ttest: 0.9012127\tbest: 0.9021975 (184)\ttotal: 1.95s\tremaining: 645ms\n",
      "800:\tlearn: 1.0000000\ttest: 0.9012127\tbest: 0.9021975 (184)\ttotal: 2.07s\tremaining: 514ms\n",
      "850:\tlearn: 1.0000000\ttest: 0.9012127\tbest: 0.9021975 (184)\ttotal: 2.19s\tremaining: 384ms\n",
      "900:\tlearn: 1.0000000\ttest: 0.9012127\tbest: 0.9021975 (184)\ttotal: 2.31s\tremaining: 254ms\n",
      "950:\tlearn: 1.0000000\ttest: 0.9012127\tbest: 0.9021975 (184)\ttotal: 2.44s\tremaining: 126ms\n",
      "999:\tlearn: 1.0000000\ttest: 0.9012127\tbest: 0.9021975 (184)\ttotal: 2.56s\tremaining: 0us\n",
      "\n",
      "bestTest = 0.9021974621\n",
      "bestIteration = 184\n",
      "\n",
      "Shrink model to first 185 iterations.\n"
     ]
    },
    {
     "data": {
      "text/plain": "<catboost.core.CatBoostClassifier at 0x28e3f1cb7d0>"
     },
     "execution_count": 26,
     "metadata": {},
     "output_type": "execute_result"
    }
   ],
   "source": [
    "# Recall\n",
    "params = {'iterations': 1000, 'use_best_model': True, 'eval_metric': 'Recall'}\n",
    "model = CatBoostClassifier(**params)\n",
    "\n",
    "model.fit(X_train_resampled, y_train_resampled,\n",
    "          eval_set=(X_test_resampled, y_test_resampled),\n",
    "          verbose=50)"
   ],
   "metadata": {
    "collapsed": false,
    "ExecuteTime": {
     "end_time": "2023-12-17T06:22:20.440145400Z",
     "start_time": "2023-12-17T06:22:17.741976800Z"
    }
   },
   "id": "3d4bebaaedd7bd5f"
  },
  {
   "cell_type": "code",
   "execution_count": 27,
   "outputs": [
    {
     "name": "stdout",
     "output_type": "stream",
     "text": [
      "Learning rate set to 0.029457\n",
      "0:\tlearn: 0.9879880\ttest: 0.9614434\tbest: 0.9614434 (0)\ttotal: 4.19ms\tremaining: 4.19s\n",
      "50:\tlearn: 0.9971347\ttest: 0.9786445\tbest: 0.9790515 (44)\ttotal: 129ms\tremaining: 2.41s\n",
      "100:\tlearn: 1.0000000\ttest: 0.9797126\tbest: 0.9806678 (84)\ttotal: 257ms\tremaining: 2.29s\n",
      "150:\tlearn: 1.0000000\ttest: 0.9783264\tbest: 0.9806678 (84)\ttotal: 380ms\tremaining: 2.13s\n",
      "200:\tlearn: 1.0000000\ttest: 0.9770498\tbest: 0.9806678 (84)\ttotal: 505ms\tremaining: 2.01s\n",
      "250:\tlearn: 1.0000000\ttest: 0.9759698\tbest: 0.9806678 (84)\ttotal: 629ms\tremaining: 1.88s\n",
      "300:\tlearn: 1.0000000\ttest: 0.9754354\tbest: 0.9806678 (84)\ttotal: 779ms\tremaining: 1.81s\n",
      "350:\tlearn: 1.0000000\ttest: 0.9743720\tbest: 0.9806678 (84)\ttotal: 933ms\tremaining: 1.73s\n",
      "400:\tlearn: 1.0000000\ttest: 0.9738190\tbest: 0.9806678 (84)\ttotal: 1.06s\tremaining: 1.58s\n",
      "450:\tlearn: 1.0000000\ttest: 0.9733115\tbest: 0.9806678 (84)\ttotal: 1.18s\tremaining: 1.44s\n",
      "500:\tlearn: 1.0000000\ttest: 0.9726841\tbest: 0.9806678 (84)\ttotal: 1.3s\tremaining: 1.3s\n",
      "550:\tlearn: 1.0000000\ttest: 0.9720789\tbest: 0.9806678 (84)\ttotal: 1.43s\tremaining: 1.16s\n",
      "600:\tlearn: 1.0000000\ttest: 0.9720494\tbest: 0.9806678 (84)\ttotal: 1.55s\tremaining: 1.03s\n",
      "650:\tlearn: 1.0000000\ttest: 0.9717840\tbest: 0.9806678 (84)\ttotal: 1.67s\tremaining: 898ms\n",
      "700:\tlearn: 1.0000000\ttest: 0.9714450\tbest: 0.9806678 (84)\ttotal: 1.8s\tremaining: 770ms\n",
      "750:\tlearn: 1.0000000\ttest: 0.9712683\tbest: 0.9806678 (84)\ttotal: 1.93s\tremaining: 639ms\n",
      "800:\tlearn: 1.0000000\ttest: 0.9710033\tbest: 0.9806678 (84)\ttotal: 2.05s\tremaining: 509ms\n",
      "850:\tlearn: 1.0000000\ttest: 0.9710033\tbest: 0.9806678 (84)\ttotal: 2.17s\tremaining: 380ms\n",
      "900:\tlearn: 1.0000000\ttest: 0.9708267\tbest: 0.9806678 (84)\ttotal: 2.29s\tremaining: 252ms\n",
      "950:\tlearn: 1.0000000\ttest: 0.9705325\tbest: 0.9806678 (84)\ttotal: 2.42s\tremaining: 124ms\n",
      "999:\tlearn: 1.0000000\ttest: 0.9701357\tbest: 0.9806678 (84)\ttotal: 2.54s\tremaining: 0us\n",
      "\n",
      "bestTest = 0.980667757\n",
      "bestIteration = 84\n",
      "\n",
      "Shrink model to first 85 iterations.\n"
     ]
    },
    {
     "data": {
      "text/plain": "<catboost.core.CatBoostClassifier at 0x28e01aef550>"
     },
     "execution_count": 27,
     "metadata": {},
     "output_type": "execute_result"
    }
   ],
   "source": [
    "# Precision\n",
    "params = {'iterations': 1000, 'use_best_model': True, 'eval_metric': 'Precision'}\n",
    "model = CatBoostClassifier(**params)\n",
    "\n",
    "model.fit(X_train_resampled, y_train_resampled,\n",
    "          eval_set=(X_test_resampled, y_test_resampled),\n",
    "          verbose=50)"
   ],
   "metadata": {
    "collapsed": false,
    "ExecuteTime": {
     "end_time": "2023-12-17T06:22:23.111637400Z",
     "start_time": "2023-12-17T06:22:20.441183Z"
    }
   },
   "id": "3781424ab76ae964"
  },
  {
   "cell_type": "code",
   "execution_count": 28,
   "outputs": [
    {
     "name": "stdout",
     "output_type": "stream",
     "text": [
      "Learning rate set to 0.029457\n",
      "0:\tlearn: 0.9368280\ttest: 0.9098084\tbest: 0.9098084 (0)\ttotal: 3.83ms\tremaining: 3.83s\n",
      "50:\tlearn: 0.9663978\ttest: 0.9373400\tbest: 0.9375299 (44)\ttotal: 131ms\tremaining: 2.43s\n",
      "100:\tlearn: 0.9825269\ttest: 0.9334501\tbest: 0.9382825 (84)\ttotal: 261ms\tremaining: 2.33s\n",
      "150:\tlearn: 0.9932796\ttest: 0.9328100\tbest: 0.9382825 (84)\ttotal: 385ms\tremaining: 2.16s\n",
      "200:\tlearn: 0.9973118\ttest: 0.9365944\tbest: 0.9409063 (186)\ttotal: 510ms\tremaining: 2.03s\n",
      "250:\tlearn: 0.9986559\ttest: 0.9399918\tbest: 0.9409063 (186)\ttotal: 633ms\tremaining: 1.89s\n",
      "300:\tlearn: 1.0000000\ttest: 0.9397386\tbest: 0.9409063 (186)\ttotal: 758ms\tremaining: 1.76s\n",
      "350:\tlearn: 1.0000000\ttest: 0.9348710\tbest: 0.9409063 (186)\ttotal: 882ms\tremaining: 1.63s\n",
      "400:\tlearn: 1.0000000\ttest: 0.9346107\tbest: 0.9409063 (186)\ttotal: 1.01s\tremaining: 1.51s\n",
      "450:\tlearn: 1.0000000\ttest: 0.9343716\tbest: 0.9409063 (186)\ttotal: 1.13s\tremaining: 1.38s\n",
      "500:\tlearn: 1.0000000\ttest: 0.9379519\tbest: 0.9409063 (186)\ttotal: 1.25s\tremaining: 1.25s\n",
      "550:\tlearn: 1.0000000\ttest: 0.9376635\tbest: 0.9409063 (186)\ttotal: 1.38s\tremaining: 1.12s\n",
      "600:\tlearn: 1.0000000\ttest: 0.9376495\tbest: 0.9409063 (186)\ttotal: 1.5s\tremaining: 997ms\n",
      "650:\tlearn: 1.0000000\ttest: 0.9375229\tbest: 0.9409063 (186)\ttotal: 1.62s\tremaining: 871ms\n",
      "700:\tlearn: 1.0000000\ttest: 0.9373611\tbest: 0.9409063 (186)\ttotal: 1.75s\tremaining: 746ms\n",
      "750:\tlearn: 1.0000000\ttest: 0.9372767\tbest: 0.9409063 (186)\ttotal: 1.87s\tremaining: 620ms\n",
      "800:\tlearn: 1.0000000\ttest: 0.9371501\tbest: 0.9409063 (186)\ttotal: 1.99s\tremaining: 495ms\n",
      "850:\tlearn: 1.0000000\ttest: 0.9371501\tbest: 0.9409063 (186)\ttotal: 2.12s\tremaining: 371ms\n",
      "900:\tlearn: 1.0000000\ttest: 0.9370656\tbest: 0.9409063 (186)\ttotal: 2.24s\tremaining: 246ms\n",
      "950:\tlearn: 1.0000000\ttest: 0.9369250\tbest: 0.9409063 (186)\ttotal: 2.36s\tremaining: 122ms\n",
      "999:\tlearn: 1.0000000\ttest: 0.9367350\tbest: 0.9409063 (186)\ttotal: 2.48s\tremaining: 0us\n",
      "\n",
      "bestTest = 0.9409062773\n",
      "bestIteration = 186\n",
      "\n",
      "Shrink model to first 187 iterations.\n"
     ]
    },
    {
     "data": {
      "text/plain": "<catboost.core.CatBoostClassifier at 0x28e3f734390>"
     },
     "execution_count": 28,
     "metadata": {},
     "output_type": "execute_result"
    }
   ],
   "source": [
    "# Accuracy\n",
    "params = {'iterations': 1000, 'use_best_model': True, 'eval_metric': 'Accuracy'}\n",
    "model = CatBoostClassifier(**params)\n",
    "\n",
    "model.fit(X_train_resampled, y_train_resampled,\n",
    "          eval_set=(X_test_resampled, y_test_resampled),\n",
    "          verbose=50)"
   ],
   "metadata": {
    "collapsed": false,
    "ExecuteTime": {
     "end_time": "2023-12-17T06:22:25.732619300Z",
     "start_time": "2023-12-17T06:22:23.110607300Z"
    }
   },
   "id": "d14f1f37d7526694"
  },
  {
   "cell_type": "code",
   "execution_count": 29,
   "outputs": [
    {
     "name": "stdout",
     "output_type": "stream",
     "text": [
      "              precision    recall  f1-score   support\n",
      "\n",
      "           0       0.91      0.98      0.94     71082\n",
      "           1       0.98      0.90      0.94     71082\n",
      "\n",
      "    accuracy                           0.94    142164\n",
      "   macro avg       0.94      0.94      0.94    142164\n",
      "weighted avg       0.94      0.94      0.94    142164\n"
     ]
    }
   ],
   "source": [
    "cat_pred = model.predict(X_test_resampled)\n",
    "print(metrics.classification_report(y_test_resampled, cat_pred))"
   ],
   "metadata": {
    "collapsed": false,
    "ExecuteTime": {
     "end_time": "2023-12-17T06:22:25.856979500Z",
     "start_time": "2023-12-17T06:22:25.729447800Z"
    }
   },
   "id": "9e416ae6398968a1"
  },
  {
   "cell_type": "markdown",
   "source": [
    "Построим гистограмму значимости фичей датасета по метрике точности"
   ],
   "metadata": {
    "collapsed": false
   },
   "id": "3e20388d500db48e"
  },
  {
   "cell_type": "code",
   "execution_count": 30,
   "outputs": [
    {
     "data": {
      "text/plain": "<Axes: ylabel='features'>"
     },
     "execution_count": 30,
     "metadata": {},
     "output_type": "execute_result"
    },
    {
     "data": {
      "text/plain": "<Figure size 500x800 with 1 Axes>",
      "image/png": "[encoded data removed]"
     },
     "metadata": {},
     "output_type": "display_data"
    }
   ],
   "source": [
    "feature_names = ['Time', 'V1', 'V2', 'V3', 'V4', 'V5', 'V6', 'V7', 'V8', 'V9', 'V10', 'V11',\n",
    "                 'V12', 'V13', 'V14', 'V15', 'V16', 'V17', 'V18', 'V19', 'V20', 'V21', 'V22',\n",
    "                 'V23', 'V24', 'V25', 'V26', 'V27', 'V28', 'Amount']\n",
    "fi = pd.DataFrame({'features': feature_names, 'w': model.feature_importances_})\n",
    "fi.sort_values('w', inplace=True)\n",
    "fi.set_index('features')['w'].plot(kind='barh', figsize=(5, 8), grid=True)"
   ],
   "metadata": {
    "collapsed": false,
    "ExecuteTime": {
     "end_time": "2023-12-17T06:22:26.059781800Z",
     "start_time": "2023-12-17T06:22:25.855963400Z"
    }
   },
   "id": "a776ea33b9b37b28"
  },
  {
   "cell_type": "code",
   "execution_count": 31,
   "outputs": [
    {
     "name": "stdout",
     "output_type": "stream",
     "text": [
      "Количество нулей: 76585\n",
      "Количество единиц: 65579\n",
      "Матрица ошибок:\n"
     ]
    },
    {
     "data": {
      "text/plain": "array([[69633,  1449],\n       [ 6952, 64130]], dtype=int64)"
     },
     "execution_count": 31,
     "metadata": {},
     "output_type": "execute_result"
    }
   ],
   "source": [
    "print(f'Количество нулей: {np.sum(cat_pred == 0)}\\n'\n",
    "      f'Количество единиц: {np.sum(cat_pred == 1)}\\n'\n",
    "      f'Матрица ошибок:')\n",
    "metrics.confusion_matrix(y_test_resampled, cat_pred)"
   ],
   "metadata": {
    "collapsed": false,
    "ExecuteTime": {
     "end_time": "2023-12-17T06:22:26.074452100Z",
     "start_time": "2023-12-17T06:22:26.058782500Z"
    }
   },
   "id": "4e6e869df013b846"
  },
  {
   "cell_type": "markdown",
   "source": [
    "Соотношение значений Class сбалансированного датасета"
   ],
   "metadata": {
    "collapsed": false
   },
   "id": "8f2aea5e796bf9c"
  },
  {
   "cell_type": "code",
   "execution_count": 32,
   "outputs": [
    {
     "data": {
      "text/plain": "[Text(0, 0, '65579')]"
     },
     "execution_count": 32,
     "metadata": {},
     "output_type": "execute_result"
    },
    {
     "data": {
      "text/plain": "<Figure size 640x480 with 1 Axes>",
      "image/png": "[encoded data removed]"
     },
     "metadata": {},
     "output_type": "display_data"
    }
   ],
   "source": [
    "df_cat_pred = pd.DataFrame(cat_pred, columns=['Class'])\n",
    "ax = sns.countplot(x='Class', data=df_cat_pred, hue='Class')\n",
    "ax.bar_label(ax.containers[0])\n",
    "ax.bar_label(ax.containers[1])"
   ],
   "metadata": {
    "collapsed": false,
    "ExecuteTime": {
     "end_time": "2023-12-17T06:22:26.361808300Z",
     "start_time": "2023-12-17T06:22:26.073453Z"
    }
   },
   "id": "d4a959911fd9287d"
  },
  {
   "cell_type": "markdown",
   "source": [
    "# Прямой отбор фичей"
   ],
   "metadata": {
    "collapsed": false
   },
   "id": "f7ebff69a57c722b"
  },
  {
   "cell_type": "code",
   "execution_count": 32,
   "outputs": [],
   "source": [],
   "metadata": {
    "collapsed": false,
    "ExecuteTime": {
     "end_time": "2023-12-17T06:22:26.365299400Z",
     "start_time": "2023-12-17T06:22:26.361808300Z"
    }
   },
   "id": "3b22b809bfff066e"
  }
 ],
 "metadata": {
  "kernelspec": {
   "display_name": "Python 3",
   "language": "python",
   "name": "python3"
  },
  "language_info": {
   "codemirror_mode": {
    "name": "ipython",
    "version": 2
   },
   "file_extension": ".py",
   "mimetype": "text/x-python",
   "name": "python",
   "nbconvert_exporter": "python",
   "pygments_lexer": "ipython2",
   "version": "2.7.6"
  }
 },
 "nbformat": 4,
 "nbformat_minor": 5
}
